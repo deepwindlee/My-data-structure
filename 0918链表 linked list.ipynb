{
 "cells": [
  {
   "cell_type": "markdown",
   "metadata": {},
   "source": [
    "https://github.com/wangzheng0822/algo \n",
    "\n",
    "作者代码"
   ]
  },
  {
   "cell_type": "markdown",
   "metadata": {},
   "source": [
    "https://mp.weixin.qq.com/s/WVA9ts9LZCZoV_CEOZMjyQ\n",
    "\n",
    "https://mp.weixin.qq.com/s/lCsJXhngPpjpCobFZHeo0w"
   ]
  },
  {
   "cell_type": "markdown",
   "metadata": {},
   "source": [
    "# 相比数组，链表是一种稍微复杂一点的数据结构。\n",
    "\n",
    "对于初学者来说，掌握起来也要比数组稍难一些。\n",
    "这两个非常基础、非常常用的数据结构，我们常常将会放到一块儿来比较。所以我们先来看，这两者有什么区别。"
   ]
  },
  {
   "cell_type": "markdown",
   "metadata": {},
   "source": [
    "# 我们先从底层的存储结构上来看一看。\n",
    "\n",
    "\n",
    " 为了直观地对比，我画了一张图。从图中我们看到，<font face=\"黑体\" color=blue size=4>数组需要一块连续的内存空间来存储，对内存的要求比较高。</font>如果我们申请一个 100MB 大小的数组，当内存中没有连续的、足够大的存储空间时，即便内存的剩余总可用空间大于 100MB，仍然会申请失败。\n",
    "\n",
    "而链表恰恰相反，<font face=\"黑体\" color=blue size=4>它并不需要一块连续的内存空间，它通过“指针”将一组零散的内存块串联起来使用，</font>所以如果我们申请的是 100MB 大小的链表，根本不会有问题。"
   ]
  },
  {
   "cell_type": "markdown",
   "metadata": {
    "ExecuteTime": {
     "end_time": "2019-07-26T08:23:30.025026Z",
     "start_time": "2019-07-26T08:23:29.832515Z"
    }
   },
   "source": [
    "![线性表](./neicunfenbu.jpg)"
   ]
  },
  {
   "cell_type": "markdown",
   "metadata": {},
   "source": [
    "链表结构五花八门，今天我重点给你介绍三种最常见的链表结构，它们分别是：**单链表、双向链表和循环链表**。我们首先来看最简单、最常用的<font face=\"黑体\" color=blue size=4>单链表</font face=\"黑体\" color=blue size=4>。\n",
    "\n",
    "我们刚刚讲到，链表通过**指针**将一组零散的<font face=\"黑体\" color=blue size=4>内存块</font >串联在一起。其中，我们把内存块称为链表的<font face=\"黑体\" color=blue size=4>“节点”</font >。为了将所有的节点串起来，<font face=\"黑体\" color=blue size=4>每个链表的结点除了存储数据之外，还需要记录链上的下一个结点的地址</font >。如图所示，我们把这个记录下个结点地址的指针叫作<font face=\"黑体\" color=blue size=4>后继指针 next</font >。\n",
    "\n",
    "我画的单链表图中，你应该可以发现，<font face=\"黑体\" color=blue size=4>其中有两个结点是比较特殊的，它们分别是第一个结点和最后一个结点。我们习惯性地把第一个结点叫作头结点，把最后一个结点叫作尾结点。其中，头结点用来记录链表的基地址。有了它，我们就可以遍历得到整条链表。而尾结点特殊的地方是：指针不是指向下一个结点，而是指向一个空地址 NULL，表示这是链表上最后一个结点。</font face=\"黑体\" color=blue size=4>\n",
    "\n",
    "与数组一样，链表也支持数据的查找、插入和删除操作。"
   ]
  },
  {
   "cell_type": "markdown",
   "metadata": {
    "ExecuteTime": {
     "end_time": "2019-07-28T14:11:03.084935Z",
     "start_time": "2019-07-28T14:11:02.924849Z"
    }
   },
   "source": [
    "![](./houjizhizhen.jpg)"
   ]
  },
  {
   "cell_type": "markdown",
   "metadata": {},
   "source": [
    "### 在进行数组的插入、删除操作时，为了保持内存数据的连续性，需要做大量的数据搬移，所以时间复杂度是 O(n)。而在链表中插入或者删除一个数据，<font face=\"黑体\" color=red size=4>我们并不需要为了保持内存的连续性而搬移结点，因为链表的存储空间本身就不是连续的。所以，在链表中插入和删除一个数据是非常快速的.</font >\n",
    "\n",
    "为了方便你理解，我画了一张图，从图中我们可以看出，针对链表的插入和删除操作，<font face=\"黑体\" color=red size=4>我们只需要考虑相邻结点的指针改变，所以对应的时间复杂度是 O(1)</font face=\"黑体\" color=red size=4>。"
   ]
  },
  {
   "cell_type": "markdown",
   "metadata": {
    "ExecuteTime": {
     "end_time": "2019-07-28T14:27:06.191188Z",
     "start_time": "2019-07-28T14:27:06.008678Z"
    }
   },
   "source": [
    "![](./cccc.jpg)"
   ]
  },
  {
   "cell_type": "markdown",
   "metadata": {},
   "source": [
    "# 但是，有利就有弊。链表要想随机访问第 k 个元素，就没有数组那么高效了。因为链表中的数据并非连续存储的，所以无法像数组那样，根据首地址和下标，通过寻址公式就能直接计算出对应的内存地址，而是需要根据指针一个结点一个结点地依次遍历，直到找到相应的结点。"
   ]
  },
  {
   "cell_type": "markdown",
   "metadata": {},
   "source": [
    "## 你可以把链表想象成一个队伍，队伍中的每个人都只知道自己后面的人是谁，所以当我们希望知道排在第 k 位的人是谁的时候，我们就需要从第一个人开始，一个一个地往下数。所以，链表随机访问的性能没有数组好，需要 O(n) 的时间复杂度。"
   ]
  },
  {
   "cell_type": "markdown",
   "metadata": {
    "ExecuteTime": {
     "end_time": "2019-09-18T16:13:35.345585Z",
     "start_time": "2019-09-18T16:13:35.340635Z"
    }
   },
   "source": [
    "**n 个结点链接成一个链表，这也就是平时书上所说的「链式存储结构」，因为这个链表中的每个结点中只包含一个指针域，所以又叫「单链表」。单链表正是通过每个结点的指针域将线性表的数据元素按其逻辑次序链接在一起。单链表的第一个结点的存储位置叫做「头指针」，\n",
    "最后一个结点的指针为「空」，一般用 “^” 表示。**"
   ]
  },
  {
   "cell_type": "markdown",
   "metadata": {},
   "source": [
    "![](./头指针2.png)"
   ]
  },
  {
   "cell_type": "markdown",
   "metadata": {},
   "source": [
    "# 接着来看另外两个复杂的升级版，循环链表和双向链表。\n",
    "循环链表是一种特殊的单链表。实际上，循环链表也很简单。它跟单链表唯一的区别就在尾结点。我们知道，单链表的尾结点指针指向空地址，表示这就是最后的结点了。而循环链表的尾结点指针是指向链表的头结点。从我画的循环链表图中，你应该可以看出来，它像一个环一样首尾相连，所以叫作“循环”链表。\n",
    "\n",
    "单链表相比，循环链表的优点是从链尾到链头比较方便。当要处理的数据具有环型结构特点时，就特别适合采用循环链表。比如著名的约瑟夫问题。尽管用单链表也可以实现，但是用循环链表实现的话，代码就会简洁很多。"
   ]
  },
  {
   "cell_type": "markdown",
   "metadata": {
    "ExecuteTime": {
     "end_time": "2019-07-29T14:02:27.877051Z",
     "start_time": "2019-07-29T14:02:27.700603Z"
    }
   },
   "source": [
    "![](./xunhuanjiegou.jpg)"
   ]
  },
  {
   "cell_type": "markdown",
   "metadata": {},
   "source": [
    "## 在实际的软件开发中，也更加常用的链表结构：双向链表。\n",
    "单向链表只有一个方向，结点只有一个后继指针 next 指向后面的结点。而双向链表，顾名思义，它支持两个方向，每个结点不止有一个后继指针 next 指向后面的结点，还有一个前驱指针 prev 指向前面的结点。\n",
    "从我画的图中可以看出来，双向链表需要额外的两个空间来存储后继结点和前驱结点的地址。所以，如果存储同样多的数据，双向链表要比单链表占用更多的内存空间。虽然两个指针比较浪费存储空间，但可以支持双向遍历，这样也带来了双向链表操作的灵活性。那相比单链表，双向链表适合解决哪种问题呢？\n",
    "\n",
    "从结构上来看，双向链表可以支持 O(1) 时间复杂度的情况下找到前驱结点，正是这样的特点，也使双向链表在某些情况下的插入、删除等操作都要比单链表简单、高效。"
   ]
  },
  {
   "cell_type": "markdown",
   "metadata": {
    "ExecuteTime": {
     "end_time": "2019-07-29T14:08:58.394270Z",
     "start_time": "2019-07-29T14:08:58.221878Z"
    }
   },
   "source": [
    "![](./shuangxiang.jpg)"
   ]
  },
  {
   "cell_type": "markdown",
   "metadata": {
    "ExecuteTime": {
     "end_time": "2019-07-29T14:10:41.001684Z",
     "start_time": "2019-07-29T14:10:40.939059Z"
    }
   },
   "source": [
    "## 我们先来看删除操作。\n",
    "\n",
    "在实际的软件开发中，从链表中删除一个数据无外乎这两种情况：\n",
    "\n",
    "1<font face=\"黑体\" color=blue size=4> 删除结点中“值等于某个给定值”的结点；</font face=\"黑体\" color=blue size=4>\n",
    "\n",
    "2 <font face=\"黑体\" color=blue size=4>删除给定指针指向的结点。</font face=\"黑体\" color=blue size=4>\n",
    "\n",
    "**对于第一种情况**，不管是单链表还是双向链表，为了查找到值等于给定值的结点，**都需要从头结点开始一个一个依次遍历对比**，直到找到值等于给定值的结点，然后再通过我前面讲的指针操作将其删除。\n",
    "\n",
    "尽管单纯的删除操作时间复杂度是 O(1)，但遍历查找的时间是主要的耗时点，对应的时间复杂度为 O(n)。根据时间复杂度分析中的加法法则，删除值等于给定值的结点对应的链表操作的总时间复杂度为 O(n)。\n",
    "\n",
    "**对于第二种情况**，我们已经找到了要删除的结点，但是删除某个结点 q 需要知道其前驱结点，**而单链表并不支持直接获取前驱结点**，所以，**为了找到前驱结点，我们还是要从头结点开始遍历链表，直到 p->next=q，说明 p 是 q 的前驱结点**。\n",
    "\n",
    "但是对于双向链表来说，这种情况就比较有优势了。因为双向链表中的结点已经保存了前驱结点的指针，不需要像单链表那样遍历。所以，针对第二种情况，单链表删除操作需要 O(n) 的时间复杂度，而双向链表只需要在 O(1) 的时间复杂度内就搞定了！"
   ]
  },
  {
   "cell_type": "markdown",
   "metadata": {},
   "source": [
    "同理，如果我们希望在链表的某个指定结点前面插入一个结点，双向链表比单链表有很大的优势。双向链表可以在 O(1) 时间复杂度搞定，而单向链表需要 O(n) 的时间复杂度。你可以参照我刚刚讲过的删除操作自己分析一下。"
   ]
  },
  {
   "cell_type": "markdown",
   "metadata": {},
   "source": [
    "了解了循环链表和双向链表，如果把这两种链表整合在一起就是一个新的版本：\n",
    "**双向循环链表**。我想不用我多讲，你应该知道双向循环链表长什么样子了吧？你可以自己试着在纸上画一画。"
   ]
  },
  {
   "cell_type": "markdown",
   "metadata": {
    "ExecuteTime": {
     "end_time": "2019-07-30T16:21:24.248902Z",
     "start_time": "2019-07-30T16:21:23.430088Z"
    }
   },
   "source": [
    "![](./shuangxiangxunhuanliebiao.jpg)"
   ]
  },
  {
   "cell_type": "markdown",
   "metadata": {},
   "source": [
    "# 链表 VS 数组性能大比拼"
   ]
  },
  {
   "cell_type": "markdown",
   "metadata": {},
   "source": [
    "![](./duibi.jpg)"
   ]
  },
  {
   "cell_type": "markdown",
   "metadata": {},
   "source": [
    "数组和链表的对比，并不能局限于时间复杂度。而且，在实际的软件开发中，不能仅仅利用复杂度分析就决定使用哪个数据结构来存储数据。\n",
    "\n",
    "**数组简单易用，在实现上使用的是连续的内存空间，可以借助 CPU 的缓存机制，预读数组中的数据**，所以访问效率更高。而链表在内存中并不是连续存储，所以对 CPU 缓存不友好，没办法有效预读。\n",
    "\n",
    "**数组的缺点是大小固定**，一经声明就要占用整块连续内存空间。如果声明的数组过大，系统可能没有足够的连续内存空间分配给它，导致**“内存不足（out of memory）**”。如果声明的数组过小，则可能出现不够用的情况。这时只能再申请一个更大的内存空间，把原数组拷贝进去，非常费时。\n",
    "\n",
    "\n",
    "\n",
    "\n",
    "**链表本身没有大小的限制**，天然地支持动态扩容，我觉得这也是它与数组最大的区别。"
   ]
  },
  {
   "cell_type": "code",
   "execution_count": 9,
   "metadata": {
    "ExecuteTime": {
     "end_time": "2019-08-15T09:39:34.333892Z",
     "start_time": "2019-08-15T09:39:33.851180Z"
    },
    "code_folding": []
   },
   "outputs": [
    {
     "name": "stdout",
     "output_type": "stream",
     "text": [
      "12->10->20->9->8->7->6->5->4->3->2->1->0\n",
      "12\n",
      "10\n",
      "20\n",
      "9\n",
      "8\n",
      "7\n",
      "6\n",
      "5\n",
      "4\n",
      "3\n",
      "2\n",
      "1\n",
      "0\n"
     ]
    }
   ],
   "source": [
    "\"\"\"\n",
    "    1) Insertion, deletion and search of singly-linked list;\n",
    "    2) Assumes int type for data in list nodes.\n",
    "    Author: Wenru\n",
    "\"\"\"\n",
    "from typing import Optional\n",
    "class Node: # 定义节点\n",
    "    def __init__(self, data: int, next_node=None):\n",
    "        self.data = data\n",
    "        self._next = next_node\n",
    "\n",
    "\n",
    "class SinglyLinkedList:  # 链表类\n",
    "\n",
    "    def __init__(self): # 定义头\n",
    "        self._head = None\n",
    "\n",
    "    def find_by_value(self, value: int) -> Optional[Node]:\n",
    "        p = self._head # 从头开始遍历\n",
    "        while p and p.data != value: \n",
    "            p = p._next\n",
    "        return p # 最终返回符合要求的的p,即p.data 等于value 的节点\n",
    "\n",
    "    def find_by_index(self, index: int) -> Optional[Node]:\n",
    "        p = self._head\n",
    "        position = 0\n",
    "        while p and position != index:\n",
    "            p = p._next\n",
    "            position += 1\n",
    "        return p\n",
    "\n",
    "    def insert_value_to_head(self, value: int):\n",
    "        new_node = Node(value)\n",
    "        self.insert_node_to_head(new_node)\n",
    "\n",
    "    def insert_node_to_head(self, new_node: Node):\n",
    "        if new_node:\n",
    "            new_node._next = self._head\n",
    "            self._head = new_node\n",
    "\n",
    "    def insert_value_after(self, node: Node, value: int):\n",
    "        new_node = Node(value)\n",
    "        self.insert_node_after(node, new_node)\n",
    "\n",
    "    def insert_node_after(self, node: Node, new_node: Node):\n",
    "        if not node or not new_node:\n",
    "            return\n",
    "        new_node._next = node._next\n",
    "        node._next = new_node\n",
    "\n",
    "    def insert_value_before(self, node: Node, value: int):\n",
    "        new_node = Node(value)\n",
    "        self.insert_node_before(node, new_node)\n",
    "\n",
    "    def insert_node_before(self, node: Node, new_node: Node):\n",
    "        if not self._head or not node or not new_node:\n",
    "            return\n",
    "        if self._head == node:\n",
    "            self.insert_node_to_head(new_node)\n",
    "            return\n",
    "        current = self._head\n",
    "        while current._next and current._next != node:\n",
    "            current = current._next\n",
    "        if not current._next:  # node is not even in the list\n",
    "            return\n",
    "        new_node._next = node\n",
    "        current._next = new_node\n",
    "\n",
    "    def delete_by_node(self, node: Node):\n",
    "        if not self._head or not node:\n",
    "            return\n",
    "        if node._next:\n",
    "            node.data = node._next.data\n",
    "            node._next = node._next._next\n",
    "            return\n",
    "        # node is the last one or not in the list\n",
    "        current = self._head\n",
    "        while current and current._next != node:\n",
    "            current = current._next\n",
    "        if not current:  # node not in the list\n",
    "            return\n",
    "        current._next = node._next\n",
    "\n",
    "    def delete_by_value(self, value: int):\n",
    "        if not self._head or not value:\n",
    "            return\n",
    "        fake_head = Node(value + 1)\n",
    "        fake_head._next = self._head\n",
    "        prev, current = fake_head, self._head\n",
    "        while current:\n",
    "            if current.data != value:\n",
    "                prev._next = current\n",
    "                prev = prev._next\n",
    "            current = current._next\n",
    "        if prev._next:\n",
    "            prev._next = None\n",
    "        self._head = fake_head._next  # in case head.data == value\n",
    "\n",
    "    def __repr__(self) -> str:\n",
    "        nums = []\n",
    "        current = self._head\n",
    "        while current:\n",
    "            nums.append(current.data)\n",
    "            current = current._next\n",
    "        return \"->\".join(str(num) for num in nums)\n",
    "\n",
    "    # 重写__iter__方法，方便for关键字调用打印值\n",
    "    def __iter__(self):\n",
    "        node = self._head\n",
    "        while node:\n",
    "            yield node.data\n",
    "            node = node._next\n",
    "\n",
    "    def print_all(self):\n",
    "        current = self._head\n",
    "        if current:\n",
    "            print(f\"{current.data}\", end=\"\")\n",
    "            current = current._next\n",
    "        while current:\n",
    "            print(f\"->{current.data}\", end=\"\")\n",
    "            current = current._next\n",
    "        print(\"\\n\", flush=True)\n",
    "\n",
    "\n",
    "if __name__ == \"__main__\":\n",
    "    l = SinglyLinkedList()\n",
    "    for i in range(15):\n",
    "        l.insert_value_to_head(i)\n",
    "    node9 = l.find_by_value(9)\n",
    "    l.insert_value_before(node9, 20)\n",
    "    l.insert_value_before(node9, 16)\n",
    "    l.insert_value_before(node9, 16)\n",
    "    l.delete_by_value(16)\n",
    "    node11 = l.find_by_index(3)\n",
    "    l.delete_by_node(node11)\n",
    "    l.delete_by_node(l._head)\n",
    "    l.delete_by_value(13)\n",
    "    print(l)\n",
    "    for value in l:\n",
    "        print(value)"
   ]
  },
  {
   "cell_type": "code",
   "execution_count": 5,
   "metadata": {
    "ExecuteTime": {
     "end_time": "2019-08-18T13:40:44.428415Z",
     "start_time": "2019-08-18T13:40:44.424386Z"
    }
   },
   "outputs": [],
   "source": [
    "class Node:\n",
    "    def __init__(self, data : int, next_node=None):\n",
    "        self.data =data\n",
    "        self._next = next_node"
   ]
  },
  {
   "cell_type": "code",
   "execution_count": 24,
   "metadata": {
    "ExecuteTime": {
     "end_time": "2019-08-18T14:03:20.053795Z",
     "start_time": "2019-08-18T14:03:20.044819Z"
    }
   },
   "outputs": [
    {
     "name": "stdout",
     "output_type": "stream",
     "text": [
      "第一个节点为： <__main__.Node object at 0x000002044FE07E10>\n",
      "第一个节点内的数据为： 9\n"
     ]
    }
   ],
   "source": [
    "my_node_1 = Node(9)\n",
    "print('第一个节点为：',my_node_1)\n",
    "print('第一个节点内的数据为：',my_node_1.data)"
   ]
  },
  {
   "cell_type": "code",
   "execution_count": 17,
   "metadata": {
    "ExecuteTime": {
     "end_time": "2019-08-18T14:00:08.622543Z",
     "start_time": "2019-08-18T14:00:08.612571Z"
    }
   },
   "outputs": [
    {
     "name": "stdout",
     "output_type": "stream",
     "text": [
      "下一个节点为空： None\n"
     ]
    }
   ],
   "source": [
    "print('下一个节点为空：',my_node_1._next)"
   ]
  },
  {
   "cell_type": "code",
   "execution_count": 21,
   "metadata": {
    "ExecuteTime": {
     "end_time": "2019-08-18T14:02:34.524220Z",
     "start_time": "2019-08-18T14:02:34.515244Z"
    }
   },
   "outputs": [
    {
     "name": "stdout",
     "output_type": "stream",
     "text": [
      "<__main__.Node object at 0x000002044FE07E80>\n"
     ]
    }
   ],
   "source": [
    "my_node_2 = Node(66)\n",
    "print(my_node_2)\n",
    "my_node_1._next=my_node_2"
   ]
  },
  {
   "cell_type": "code",
   "execution_count": 23,
   "metadata": {
    "ExecuteTime": {
     "end_time": "2019-08-18T14:02:52.953194Z",
     "start_time": "2019-08-18T14:02:52.946211Z"
    }
   },
   "outputs": [
    {
     "data": {
      "text/plain": [
       "66"
      ]
     },
     "execution_count": 23,
     "metadata": {},
     "output_type": "execute_result"
    }
   ],
   "source": [
    "my_node_1._next.data"
   ]
  },
  {
   "cell_type": "code",
   "execution_count": 11,
   "metadata": {
    "ExecuteTime": {
     "end_time": "2019-08-15T09:40:02.649384Z",
     "start_time": "2019-08-15T09:40:02.393900Z"
    },
    "code_folding": []
   },
   "outputs": [],
   "source": [
    "from typing import Optional\n",
    "class Node:\n",
    "    def __init__(self, data : int, next_node=None):\n",
    "        self.data =data\n",
    "        self._next = next_node\n",
    "class SinglyLinkedList:\n",
    "    def __init__(self):\n",
    "        self._head = None \n",
    "\n",
    "    def find_by_value(self, value: int) ->Optional[Node]:\n",
    "        p = self._head\n",
    "        while p and p.data != value:\n",
    "            p = p._next\n",
    "        return p  #最终返回符合要求的的p,即p.data 等于value 的节点\n",
    "    def find_by_index(self, index:int) ->Optional[Node]:\n",
    "        p = self._head\n",
    "        position = 0\n",
    "        while p and position != index:\n",
    "            p=p._next\n",
    "            position+=1\n",
    "        return p\n",
    "    def insert_node_to_head(self, new_node:Node):\n",
    "        if new_node:\n",
    "            new_node._next = self._head #当前节点成了下一个节点，所以把当前头节点 赋值给 新节点指向的下个节点\n",
    "            \n",
    "            self._head = new_node # 新节点赋值给头节点，也就是新节点成了头节点\n",
    "\n",
    "    \n",
    "    def insert_value_to_head(self, value :int):\n",
    "        new_node = Node(value)\n",
    "        self.insert_node_to_head(new_node)\n",
    "    \n",
    "    \n",
    "    def insert_node_before(self, node: Node, new_node: Node):\n",
    "        # 在node节点前面插入新节点\n",
    "        if not self._head or not node or not new_node:\n",
    "            return\n",
    "        if self._head == node:# 如果当前节点就是在头部，那么\n",
    "            self.insert_node_to_head(new_node)\n",
    "            return\n",
    "        # 以上两种情况都不是的话，则 令当前为头节点 \n",
    "        # 只要下一个数不为空 且 后继指针不等于要插入的节点\n",
    "         #则一直往后，直到current._next 等于 node\n",
    "        current = self._head \n",
    "        while current._next and current._next != node:# 当前节点的下一个节点不为空，且不等于当前节点\n",
    "            current = current._next\n",
    "        if not current._next: # 如果当前节点指向的下一个节点 为空，则 啥都不返回\n",
    "            return\n",
    "        #新节点的后继指针指向当前指针的值\n",
    "        # current的后继指针 指向新节点\n",
    "        new_node._next = node #新节点指向的下一个节点为 所要插值的node\n",
    "        current._next = new_node #当前节点指向的下一个节点为 新节点\n",
    "\n",
    "    def insert_value_before(self, node: Node, value: int):\n",
    "        new_node = Node(value)\n",
    "        self.insert_node_before(node, new_node)\n",
    "\n",
    "    def insert_value_after(self,node: Node, value: int):\n",
    "        new_node = Node(value)\n",
    "        self.insert_node_after(node, new_node)\n",
    "    def insert_node_after(self, node:Node,new_node:Node):\n",
    "        if not node or not new_node:\n",
    "            retrun \n",
    "        new_node._next = node._next# 新节点的后继指针 为当前节点的后继指针\n",
    "        node._next = new_node   # 新节点 为 当前节点的后继指针\n",
    "    \n",
    "\n",
    "    def delete_by_node(self,node:Node):\n",
    "        if not self._head or not node:\n",
    "            return\n",
    "        if node._next:#如果所删除的节点所指向的下一个节点不为空\n",
    "            node.data = node._next.data #把所删除的节点数据重新赋值为下一个节点的数据\n",
    "            node._next = node._next._next# 把所删除节点所指向的节点重新赋值为下一个节点的下一个节点\n",
    "            return                       # 这样就达到了删除node的目地，即把所要删除的节点的值和指针都赋值为下一个节点的值 和指针\n",
    "        current = self._head\n",
    "        while current and current._next != node: # 遍历，找到查出节点的前面的那个节点\n",
    "            current = current._next\n",
    "        if not current:\n",
    "            return \n",
    "        current._next = node._next #连接好 node 前面的\n",
    "        \n",
    "            \n",
    "    def delete_by_value(self, value: int):\n",
    "        if not self._head or not value:\n",
    "            return\n",
    "        fake_head = Node(value + 1)\n",
    "        fake_head._next = self._head\n",
    "        prev, current = fake_head, self._head\n",
    "        while current:\n",
    "            if current.data != value:\n",
    "                prev._next = current\n",
    "                prev = prev._next\n",
    "            current = current._next\n",
    "        if prev._next:\n",
    "            prev._next = None\n",
    "        self._head = fake_head._next  # in case head.data == value"
   ]
  },
  {
   "cell_type": "code",
   "execution_count": 12,
   "metadata": {
    "ExecuteTime": {
     "end_time": "2019-08-15T09:40:03.014244Z",
     "start_time": "2019-08-15T09:40:02.980332Z"
    }
   },
   "outputs": [
    {
     "name": "stdout",
     "output_type": "stream",
     "text": [
      "9\n",
      "<bound method SinglyLinkedList.insert_node_before of <__main__.SinglyLinkedList object at 0x00000187609EC550>>\n"
     ]
    }
   ],
   "source": [
    "if __name__ == \"__main__\":\n",
    "    l = SinglyLinkedList()\n",
    "    for i in range(15):\n",
    "        l.insert_value_to_head(i)\n",
    "    node9 = l.find_by_value(9)\n",
    "    print(node9.data)\n",
    "    l.insert_value_before(node9, 20)\n",
    "    l.insert_value_before(node9, 16)\n",
    "    l.insert_value_before(node9, 16)\n",
    "    l.delete_by_value(16)\n",
    "    node11 = l.find_by_index(3)\n",
    "    l.delete_by_node(node11)\n",
    "    l.delete_by_node(l._head)\n",
    "    l.delete_by_value(13)\n",
    "    print(l.insert_node_before)"
   ]
  },
  {
   "cell_type": "code",
   "execution_count": null,
   "metadata": {},
   "outputs": [],
   "source": []
  },
  {
   "cell_type": "markdown",
   "metadata": {},
   "source": [
    "## 链表反转"
   ]
  },
  {
   "cell_type": "code",
   "execution_count": 55,
   "metadata": {
    "ExecuteTime": {
     "end_time": "2019-09-08T06:30:09.424318Z",
     "start_time": "2019-09-08T06:30:09.222857Z"
    }
   },
   "outputs": [
    {
     "name": "stdout",
     "output_type": "stream",
     "text": [
      "链表反转\n",
      "29\n",
      "23\n",
      "17\n",
      "16\n",
      "15\n",
      "13\n",
      "5\n",
      "3\n",
      "1\n",
      "合并有序链表\n",
      "1\n",
      "4\n",
      "5\n",
      "7\n",
      "9\n",
      "15\n",
      "23\n",
      "27\n",
      "38\n",
      "49\n"
     ]
    }
   ],
   "source": [
    "\"\"\"\n",
    "    1) Reverse singly-linked list\n",
    "    2) Detect cycle in a list\n",
    "    3) Merge two sorted lists\n",
    "    4) Remove nth node from the end\n",
    "    5) Find middle node\n",
    "    Author: Wenru\n",
    "\"\"\"\n",
    "from typing import Optional\n",
    "class Node:\n",
    "    def __init__(self, data: int, next=None):\n",
    "        self.data = data\n",
    "        self._next = next\n",
    "# Reverse singly-linked list\n",
    "# 单链表反转\n",
    "# Note that the input is assumed to be a Node, not a linked list.\n",
    "def reverse(head: Node) -> Optional[Node]:\n",
    "    reversed_head = None\n",
    "    current = head\n",
    "    while current:\n",
    "        reversed_head, reversed_head._next, current = current, reversed_head, current._next\n",
    "    return reversed_head\n",
    "\n",
    "# Detect cycle in a list\n",
    "# 检测环\n",
    "def has_cycle(head: Node) -> bool:\n",
    "    slow, fast = head, head\n",
    "    while fast and fast._next:\n",
    "        slow = slow._next\n",
    "        fast = fast._next._next\n",
    "        if slow == fast:\n",
    "            return True\n",
    "    return False\n",
    "\n",
    "# Merge two sorted linked list\n",
    "# 有序链表合并\n",
    "def merge_sorted_list(l1: Node, l2: Node) -> Optional[Node]:\n",
    "    if l1 and l2:\n",
    "        p1, p2 = l1, l2\n",
    "        fake_head = Node(None)\n",
    "        current = fake_head\n",
    "        while p1 and p2:\n",
    "            if p1.data <= p2.data:\n",
    "                current._next = p1\n",
    "                p1 = p1._next\n",
    "            else:\n",
    "                current._next = p2\n",
    "                p2 = p2._next\n",
    "            current = current._next\n",
    "        current._next = p1 if p1 else p2\n",
    "        return fake_head._next\n",
    "    return l1 or l2\n",
    "\n",
    "# Remove nth node from the end\n",
    "# 删除倒数第n个节点。假设n大于0\n",
    "# 2个指针同时指向第一个节点，让第一个指针p向前移动n次，之后第二个指针p和指针ptr开始一起移动，直到p为空或者p->next为空，\n",
    "#此时指针ptr指向要删除节点的前一个节点（如果要删除的不是第一个节点）。\n",
    "#如果要删除的节点为第一个节点，则需要修改头指针，反之则直接删除即可。\n",
    "def remove_nth_from_end(head: Node, n: int) -> Optional[Node]:\n",
    "    fast = head\n",
    "    count = 0\n",
    "    while fast and count < n:\n",
    "        fast = fast._next\n",
    "        count += 1\n",
    "    if not fast and count < n:  # not that many nodes\n",
    "        return head\n",
    "    if not fast and count == n:\n",
    "        return head._next\n",
    "    \n",
    "    slow = head\n",
    "    while fast._next:\n",
    "        fast, slow = fast._next, slow._next\n",
    "    slow._next = slow._next._next\n",
    "    return head\n",
    "\n",
    "def find_middle_node(head: Node) -> Optional[Node]:\n",
    "    slow, fast = head, head\n",
    "    fast = fast._next if fast else None\n",
    "    while fast and fast._next:\n",
    "        slow, fast = slow._next, fast._next._next\n",
    "    return slow\n",
    "\n",
    "def print_all(head: Node):\n",
    "    nums = []\n",
    "    current = head\n",
    "    while current:\n",
    "        nums.append(current.data)\n",
    "        current = current._next\n",
    "    print(\"->\".join(str(num) for num in nums))\n",
    "    \n",
    "if __name__ == '__main__':\n",
    "    print('链表反转')\n",
    "    link = Node(1, Node(3, Node(5, Node(13, Node(15, Node(16, Node(17, Node(23, Node(29)))))))))\n",
    "    link2 = Node(4, Node(5, Node(7, Node(9, Node(15, Node(23, Node(27, Node(38, Node(49)))))))))\n",
    "    p = reverse(link)  # 输出链表 4->3->2->1->None\n",
    "    while p:\n",
    "        print(p.data)\n",
    "        p = p._next\n",
    "        \n",
    "    print('合并有序链表')\n",
    "    p = merge_sorted_list(link,link2)\n",
    "    while p:\n",
    "        print(p.data)\n",
    "        p = p._next\n",
    "    "
   ]
  },
  {
   "cell_type": "code",
   "execution_count": 66,
   "metadata": {
    "ExecuteTime": {
     "end_time": "2019-08-27T09:27:33.188808Z",
     "start_time": "2019-08-27T09:27:33.180850Z"
    }
   },
   "outputs": [],
   "source": [
    "link = Node(1, Node(2, Node(3, Node(4, Node(5, Node(6, Node(7, Node(8, Node(9)))))))))"
   ]
  },
  {
   "cell_type": "code",
   "execution_count": 67,
   "metadata": {
    "ExecuteTime": {
     "end_time": "2019-08-27T09:27:33.768292Z",
     "start_time": "2019-08-27T09:27:33.757325Z"
    }
   },
   "outputs": [
    {
     "data": {
      "text/plain": [
       "2"
      ]
     },
     "execution_count": 67,
     "metadata": {},
     "output_type": "execute_result"
    }
   ],
   "source": [
    "link._next.data"
   ]
  },
  {
   "cell_type": "code",
   "execution_count": 68,
   "metadata": {
    "ExecuteTime": {
     "end_time": "2019-08-27T09:27:34.427494Z",
     "start_time": "2019-08-27T09:27:34.419516Z"
    }
   },
   "outputs": [
    {
     "data": {
      "text/plain": [
       "1"
      ]
     },
     "execution_count": 68,
     "metadata": {},
     "output_type": "execute_result"
    }
   ],
   "source": [
    "link.data"
   ]
  },
  {
   "cell_type": "raw",
   "metadata": {
    "ExecuteTime": {
     "end_time": "2019-08-24T02:55:21.245134Z",
     "start_time": "2019-08-24T02:55:21.239176Z"
    }
   },
   "source": [
    "link = Node(1, Node(2, Node(3, Node(4, Node(5, Node(6, Node(7, Node(8, Node(9)))))))))\n",
    "p = reverse(link)  # 输出链表 4->3->2->1->None\n",
    "print(p.data)"
   ]
  },
  {
   "cell_type": "code",
   "execution_count": 69,
   "metadata": {
    "ExecuteTime": {
     "end_time": "2019-08-27T09:27:35.614319Z",
     "start_time": "2019-08-27T09:27:35.605343Z"
    }
   },
   "outputs": [
    {
     "data": {
      "text/plain": [
       "5"
      ]
     },
     "execution_count": 69,
     "metadata": {},
     "output_type": "execute_result"
    }
   ],
   "source": [
    "link = Node(1, Node(2, Node(3, Node(4, Node(5, Node(6, Node(7, Node(8, Node(9)))))))))\n",
    "find_middle_node(link).data"
   ]
  },
  {
   "cell_type": "code",
   "execution_count": 70,
   "metadata": {
    "ExecuteTime": {
     "end_time": "2019-08-27T09:27:37.552135Z",
     "start_time": "2019-08-27T09:27:37.544156Z"
    }
   },
   "outputs": [
    {
     "name": "stdout",
     "output_type": "stream",
     "text": [
      "False\n"
     ]
    }
   ],
   "source": [
    "link = Node(1, Node(2, Node(3, Node(4, Node(5, Node(6, Node(7, Node(8, Node(9)))))))))\n",
    "print(has_cycle(link))"
   ]
  },
  {
   "cell_type": "code",
   "execution_count": 75,
   "metadata": {
    "ExecuteTime": {
     "end_time": "2019-08-27T09:28:46.468777Z",
     "start_time": "2019-08-27T09:28:46.461796Z"
    }
   },
   "outputs": [],
   "source": [
    "Node(9)._next = Node(1)"
   ]
  },
  {
   "cell_type": "code",
   "execution_count": 76,
   "metadata": {
    "ExecuteTime": {
     "end_time": "2019-08-27T09:28:48.622018Z",
     "start_time": "2019-08-27T09:28:48.614040Z"
    }
   },
   "outputs": [
    {
     "data": {
      "text/plain": [
       "9"
      ]
     },
     "execution_count": 76,
     "metadata": {},
     "output_type": "execute_result"
    }
   ],
   "source": [
    "Node(9).data"
   ]
  },
  {
   "cell_type": "code",
   "execution_count": 77,
   "metadata": {
    "ExecuteTime": {
     "end_time": "2019-08-27T09:28:54.605041Z",
     "start_time": "2019-08-27T09:28:54.598032Z"
    }
   },
   "outputs": [
    {
     "ename": "AttributeError",
     "evalue": "'NoneType' object has no attribute 'data'",
     "output_type": "error",
     "traceback": [
      "\u001b[1;31m---------------------------------------------------------------------------\u001b[0m",
      "\u001b[1;31mAttributeError\u001b[0m                            Traceback (most recent call last)",
      "\u001b[1;32m<ipython-input-77-ff658db00468>\u001b[0m in \u001b[0;36m<module>\u001b[1;34m()\u001b[0m\n\u001b[1;32m----> 1\u001b[1;33m \u001b[0mNode\u001b[0m\u001b[1;33m(\u001b[0m\u001b[1;36m9\u001b[0m\u001b[1;33m)\u001b[0m\u001b[1;33m.\u001b[0m\u001b[0m_next\u001b[0m\u001b[1;33m.\u001b[0m\u001b[0mdata\u001b[0m\u001b[1;33m\u001b[0m\u001b[0m\n\u001b[0m",
      "\u001b[1;31mAttributeError\u001b[0m: 'NoneType' object has no attribute 'data'"
     ]
    }
   ],
   "source": [
    "Node(9)._next.data"
   ]
  },
  {
   "cell_type": "code",
   "execution_count": 61,
   "metadata": {
    "ExecuteTime": {
     "end_time": "2019-08-27T09:25:21.244769Z",
     "start_time": "2019-08-27T09:25:21.233800Z"
    }
   },
   "outputs": [
    {
     "name": "stdout",
     "output_type": "stream",
     "text": [
      "False\n"
     ]
    },
    {
     "data": {
      "text/plain": [
       "2"
      ]
     },
     "execution_count": 61,
     "metadata": {},
     "output_type": "execute_result"
    }
   ],
   "source": [
    "print(has_cycle(link))\n",
    "link._next.data"
   ]
  },
  {
   "cell_type": "code",
   "execution_count": 44,
   "metadata": {
    "ExecuteTime": {
     "end_time": "2019-08-24T05:57:38.961529Z",
     "start_time": "2019-08-24T05:57:38.956516Z"
    }
   },
   "outputs": [],
   "source": [
    "link = Node(1, Node(2, Node(3, Node(4, Node(5, Node(6, Node(7, Node(8, Node(9)))))))))\n",
    "pp=remove_nth_from_end(link, 3)"
   ]
  },
  {
   "cell_type": "code",
   "execution_count": 45,
   "metadata": {
    "ExecuteTime": {
     "end_time": "2019-08-24T05:57:40.131880Z",
     "start_time": "2019-08-24T05:57:40.124900Z"
    }
   },
   "outputs": [
    {
     "name": "stdout",
     "output_type": "stream",
     "text": [
      "1\n",
      "2\n",
      "3\n",
      "4\n",
      "5\n",
      "6\n",
      "8\n",
      "9\n"
     ]
    }
   ],
   "source": [
    "while pp:\n",
    "    print(pp.data)\n",
    "    pp = pp._next"
   ]
  },
  {
   "cell_type": "code",
   "execution_count": null,
   "metadata": {},
   "outputs": [],
   "source": [
    "link = Node(1, Node(2, Node(3, Node(4, Node(5, Node(6, Node(7, Node(8, Node(9)))))))))\n",
    "find_middle_node(link).data"
   ]
  },
  {
   "cell_type": "code",
   "execution_count": 14,
   "metadata": {
    "ExecuteTime": {
     "end_time": "2019-08-15T09:40:17.262164Z",
     "start_time": "2019-08-15T09:40:17.252192Z"
    }
   },
   "outputs": [
    {
     "name": "stdout",
     "output_type": "stream",
     "text": [
      "9\n"
     ]
    }
   ],
   "source": [
    "if __name__ == \"__main__\":\n",
    "    l = SinglyLinkedList()\n",
    "    for i in range(15):\n",
    "        l.insert_value_to_head(i)\n",
    "    node9 = l.find_by_value(9)\n",
    "    print(node9.data)\n",
    "    "
   ]
  },
  {
   "cell_type": "code",
   "execution_count": null,
   "metadata": {},
   "outputs": [],
   "source": []
  },
  {
   "cell_type": "markdown",
   "metadata": {},
   "source": [
    "https://blog.csdn.net/Bryce_Liu/article/details/90637042\n",
    "\n",
    "## 循环方法的思想是建立三个变量，分别指向当前结点，当前结点的前一个结点，新的head结点，从head开始，每次循环将相邻两个结点的方向反转。当整个链表循环遍历过一遍之后，链表的方向就被反转过来了。"
   ]
  },
  {
   "cell_type": "markdown",
   "metadata": {},
   "source": [
    "![](./fanzhuan.png)"
   ]
  },
  {
   "cell_type": "code",
   "execution_count": 18,
   "metadata": {
    "ExecuteTime": {
     "end_time": "2019-08-24T02:03:05.442043Z",
     "start_time": "2019-08-24T02:03:05.388152Z"
    }
   },
   "outputs": [
    {
     "name": "stdout",
     "output_type": "stream",
     "text": [
      "零时 节点的值 2\n",
      "零时 节点的值 3\n",
      "零时 节点的值 4\n",
      "4\n",
      "3\n",
      "2\n",
      "1\n"
     ]
    }
   ],
   "source": [
    "class Node:\n",
    "    def __init__(self, x,next=None):\n",
    "        self.val = x\n",
    "        self._next = next#None\n",
    "def reverse(head):  # 循环的方法反转链表\n",
    "    if head is None or head._next is None:\n",
    "        return head\n",
    "    # 定义反转的初始状态\n",
    "    pre = None\n",
    "    cur = head\n",
    "    newhead = head\n",
    "    while cur: # while (cur is not None):\n",
    "        newhead = cur  # 当前节点成了新的头节点\n",
    "        tmp = cur._next # 保持好当前节点的 下个 节点，也就是临时节点，防止丢失\n",
    "        try:\n",
    "            print('零时 节点的值',tmp.val)\n",
    "        except:\n",
    "            pass\n",
    "        cur._next = pre # 当前节点的 指针反向，也就是把前面的节点赋值给后面的节点\n",
    "        pre = cur       #当前节点 就成了pre \n",
    "        cur = tmp       # 后面的零时节点就成了当前节点\n",
    "    return newhead\n",
    "if __name__ == '__main__':\n",
    "    head = Node(1)  # 测试代码\n",
    "    p1 = Node(2)  # 建立链表1->2->3->4->None;\n",
    "    p2 = Node(3)\n",
    "    p3 = Node(4)\n",
    "    head._next = p1\n",
    "    p1._next = p2\n",
    "    p2._next = p3\n",
    "    p = reverse(head)  # 输出链表 4->3->2->1->None\n",
    "    while p:\n",
    "        print(p.val)\n",
    "        p = p._next\n"
   ]
  },
  {
   "cell_type": "code",
   "execution_count": 19,
   "metadata": {
    "ExecuteTime": {
     "end_time": "2019-08-24T02:03:06.367148Z",
     "start_time": "2019-08-24T02:03:06.357141Z"
    }
   },
   "outputs": [
    {
     "name": "stdout",
     "output_type": "stream",
     "text": [
      "零时 节点的值 2\n",
      "零时 节点的值 3\n",
      "零时 节点的值 4\n",
      "零时 节点的值 5\n",
      "零时 节点的值 6\n",
      "零时 节点的值 7\n",
      "零时 节点的值 8\n",
      "零时 节点的值 9\n",
      "9\n",
      "8\n",
      "7\n",
      "6\n",
      "5\n",
      "4\n",
      "3\n",
      "2\n",
      "1\n"
     ]
    }
   ],
   "source": [
    "if __name__ == '__main__':\n",
    "    link = Node(1, Node(2, Node(3, Node(4, Node(5, Node(6, Node(7, Node(8, Node(9)))))))))\n",
    "\n",
    "    p = reverse(link)  # 输出链表 4->3->2->1->None\n",
    "    while p:\n",
    "        print(p.val)\n",
    "        p = p._next"
   ]
  },
  {
   "cell_type": "code",
   "execution_count": 2,
   "metadata": {
    "ExecuteTime": {
     "end_time": "2019-08-17T10:15:45.856827Z",
     "start_time": "2019-08-17T10:15:45.841868Z"
    }
   },
   "outputs": [
    {
     "data": {
      "text/plain": [
       "1"
      ]
     },
     "execution_count": 2,
     "metadata": {},
     "output_type": "execute_result"
    }
   ],
   "source": [
    "Node(1).val"
   ]
  },
  {
   "cell_type": "code",
   "execution_count": null,
   "metadata": {},
   "outputs": [],
   "source": []
  },
  {
   "cell_type": "code",
   "execution_count": null,
   "metadata": {},
   "outputs": [],
   "source": []
  },
  {
   "cell_type": "code",
   "execution_count": null,
   "metadata": {
    "ExecuteTime": {
     "end_time": "2019-08-24T01:52:13.590154Z",
     "start_time": "2019-08-24T01:52:13.528315Z"
    }
   },
   "outputs": [],
   "source": [
    "class Node:\n",
    "    def __init__(self, x,_next=None):\n",
    "        self.val = x\n",
    "        self._next = None\n",
    "class solution(object):\n",
    "    def reverse(self,head):  # 循环的方法反转链表\n",
    "        if head is None or head._next is None:\n",
    "            return head\n",
    "        # 定义反转的初始状态\n",
    "        pre = None\n",
    "        cur = head\n",
    "        newhead = head\n",
    "        while cur: # while (cur is not None):\n",
    "            newhead = cur  # 当前节点成了新的头节点\n",
    "            tmp = cur._next # 保持好当前节点的 下个 节点，也就是临时节点，防止丢失\n",
    "            print(tmp)\n",
    "            cur._next = pre # 当前节点的 指针反向\n",
    "            pre = cur #当前节点 就成了pre \n",
    "            cur = tmp  # 后面的零时节点就成了当前节点\n",
    "        return newhead\n",
    "\n",
    "if __name__ == '__main__':\n",
    "    head = Node(1)  # 测试代码\n",
    "    p1 = Node(2)  # 建立链表1->2->3->4->None;\n",
    "    p2 = Node(3)\n",
    "    p3 = Node(4)\n",
    "    head._next = p1\n",
    "    p1._next = p2\n",
    "    p2._next = p3\n",
    "    solution = solution()\n",
    "    p = solution.reverse(head)  # 输出链表 4->3->2->1->None\n",
    "    while p:\n",
    "        print(p.val)\n",
    "        p = p._next\n"
   ]
  },
  {
   "cell_type": "markdown",
   "metadata": {
    "ExecuteTime": {
     "end_time": "2019-08-24T01:56:47.306021Z",
     "start_time": "2019-08-24T01:56:47.279090Z"
    }
   },
   "source": [
    "link = Node(1, Node(2, Node(3, Node(4, Node(5, Node(6, Node(7, Node(8, Node(9)))))))))\n",
    "solution2 = solution()\n",
    "root = solution.reverse(link)\n",
    "while root:\n",
    "    print(root.data)\n",
    "    root =root.next"
   ]
  },
  {
   "cell_type": "code",
   "execution_count": null,
   "metadata": {},
   "outputs": [],
   "source": []
  },
  {
   "cell_type": "code",
   "execution_count": null,
   "metadata": {},
   "outputs": [],
   "source": []
  },
  {
   "cell_type": "code",
   "execution_count": null,
   "metadata": {},
   "outputs": [],
   "source": []
  },
  {
   "cell_type": "code",
   "execution_count": null,
   "metadata": {},
   "outputs": [],
   "source": []
  },
  {
   "cell_type": "code",
   "execution_count": null,
   "metadata": {},
   "outputs": [],
   "source": []
  },
  {
   "cell_type": "code",
   "execution_count": null,
   "metadata": {},
   "outputs": [],
   "source": []
  },
  {
   "cell_type": "code",
   "execution_count": 88,
   "metadata": {
    "ExecuteTime": {
     "end_time": "2019-09-08T12:36:23.538062Z",
     "start_time": "2019-09-08T12:36:23.475232Z"
    }
   },
   "outputs": [
    {
     "name": "stdout",
     "output_type": "stream",
     "text": [
      "4\n",
      "3\n",
      "2\n",
      "1\n"
     ]
    }
   ],
   "source": [
    "class ListNode:\n",
    "    def __init__(self, x,next=None):\n",
    "        self.val = x\n",
    "        self.next = None\n",
    "\n",
    "\n",
    "def reverse(head):  # 循环的方法反转链表\n",
    "    if head is None or head.next is None:\n",
    "        return head\n",
    "    # 定义反转的初始状态\n",
    "    pre = None\n",
    "    cur = head\n",
    "    newhead = head\n",
    "    while cur:\n",
    "        newhead = cur\n",
    "        tmp = cur.next\n",
    "        cur.next = pre\n",
    "        pre = cur\n",
    "        cur = tmp\n",
    "    return newhead\n",
    "\n",
    "if __name__ == '__main__':\n",
    "    head = ListNode(1)  # 测试代码\n",
    "    p1 = ListNode(2)  # 建立链表1->2->3->4->None;\n",
    "    p2 = ListNode(3)\n",
    "    p3 = ListNode(4)\n",
    "    head.next = p1\n",
    "    p1.next = p2\n",
    "    p2.next = p3\n",
    "    p = reverse(head)  # 输出链表 4->3->2->1->None\n",
    "    while p:\n",
    "        print(p.val)\n",
    "        p = p.next\n"
   ]
  },
  {
   "cell_type": "markdown",
   "metadata": {},
   "source": [
    "# 合并两个有序链表"
   ]
  },
  {
   "cell_type": "markdown",
   "metadata": {},
   "source": [
    "https://www.cnblogs.com/xugenpeng/p/9850372.html#python-%E5%AE%9E%E7%8E%B0-1\n",
    "\n",
    "\n",
    "https://www.zhangqibot.com/post/algo-jianzhi-offer/"
   ]
  },
  {
   "cell_type": "markdown",
   "metadata": {},
   "source": [
    "## 迭代思路\n",
    "\n",
    "因为两个链表都是有序链表（递增），因此可以很容易地找出两个链表中的最小元素，即比较两个链表表头的元素，时间复杂度是 O(1)的。\n",
    "\n",
    "我们可以利用两个指针——指向两个链表的最小节点，每次比较两个指针所指向节点的值，\n",
    "\n",
    "将值比较小的节点加到新的链表中，然后更新指针，如此循环往复直到到达一个链表的尾部。\n",
    "\n",
    "最后，还需要将另一个链表的剩余部分（如果存在的话）添加到新的链表的尾部。"
   ]
  },
  {
   "cell_type": "code",
   "execution_count": 81,
   "metadata": {
    "ExecuteTime": {
     "end_time": "2019-09-08T07:35:55.441628Z",
     "start_time": "2019-09-08T07:35:55.426667Z"
    }
   },
   "outputs": [],
   "source": [
    "'''class ListNode(object):\n",
    "    def __init__(self,x,next=None): # 与leetcode 默认不同的是， 加了 参数，next = none ，方便赋值\n",
    "        self.val = x\n",
    "        self.next = None\n",
    " '''       \n",
    "class Node:\n",
    "    def __init__(self, val, next=None):\n",
    "        self.val = val\n",
    "        self.next = next    "
   ]
  },
  {
   "cell_type": "code",
   "execution_count": 87,
   "metadata": {
    "ExecuteTime": {
     "end_time": "2019-09-08T12:33:04.495403Z",
     "start_time": "2019-09-08T12:33:04.459498Z"
    }
   },
   "outputs": [],
   "source": [
    "class Solution:\n",
    "    # 返回合并后列表\n",
    "    def Merge(self, pHead1, pHead2):\n",
    "        if pHead1 is None:\n",
    "            return pHead2\n",
    "        if pHead2 is None:\n",
    "            return pHead1\n",
    "        pMerged = None\n",
    "        if pHead1.val < pHead2.val:\n",
    "            pMerged = pHead1\n",
    "            pMerged.next = self.Merge(pHead1.next, pHead2)\n",
    "        else:\n",
    "            pMerged = pHead2\n",
    "            pMerged.next = self.Merge(pHead1, pHead2.next)\n",
    "        return pMerged"
   ]
  },
  {
   "cell_type": "code",
   "execution_count": 83,
   "metadata": {
    "ExecuteTime": {
     "end_time": "2019-09-08T07:35:58.753540Z",
     "start_time": "2019-09-08T07:35:58.741573Z"
    }
   },
   "outputs": [
    {
     "name": "stdout",
     "output_type": "stream",
     "text": [
      "1\n",
      "2\n",
      "4\n",
      "7\n",
      "9\n",
      "12\n",
      "13\n",
      "15\n",
      "24\n",
      "26\n",
      "35\n",
      "37\n",
      "48\n",
      "56\n",
      "59\n",
      "77\n",
      "88\n",
      "99\n"
     ]
    }
   ],
   "source": [
    "link_1 = Node(1, Node(4, Node(7, Node(9, Node(15, Node(26, Node(37, Node(48, Node(59)))))))))\n",
    "link_2  =  Node(2, Node(12, Node(13, Node(24, Node(35, Node(56, Node(77, Node(88, Node(99)))))))))\n",
    "ss = Solution()\n",
    "p  = ss.Merge(link_1,link_2)\n",
    "while p:\n",
    "    print(p.val)\n",
    "    p = p.next"
   ]
  }
 ],
 "metadata": {
  "kernelspec": {
   "display_name": "Python 3",
   "language": "python",
   "name": "python3"
  },
  "language_info": {
   "codemirror_mode": {
    "name": "ipython",
    "version": 3
   },
   "file_extension": ".py",
   "mimetype": "text/x-python",
   "name": "python",
   "nbconvert_exporter": "python",
   "pygments_lexer": "ipython3",
   "version": "3.6.4"
  },
  "varInspector": {
   "cols": {
    "lenName": 16,
    "lenType": 16,
    "lenVar": 40
   },
   "kernels_config": {
    "python": {
     "delete_cmd_postfix": "",
     "delete_cmd_prefix": "del ",
     "library": "var_list.py",
     "varRefreshCmd": "print(var_dic_list())"
    },
    "r": {
     "delete_cmd_postfix": ") ",
     "delete_cmd_prefix": "rm(",
     "library": "var_list.r",
     "varRefreshCmd": "cat(var_dic_list()) "
    }
   },
   "types_to_exclude": [
    "module",
    "function",
    "builtin_function_or_method",
    "instance",
    "_Feature"
   ],
   "window_display": false
  }
 },
 "nbformat": 4,
 "nbformat_minor": 2
}
